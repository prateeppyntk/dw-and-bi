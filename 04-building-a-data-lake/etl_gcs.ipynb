{
 "cells": [
  {
   "cell_type": "code",
   "execution_count": 1,
   "metadata": {},
   "outputs": [],
   "source": [
    "# import library\n",
    "from pyspark import SparkConf\n",
    "from pyspark.sql import SparkSession\n",
    "from pyspark.sql.functions import *\n",
    "\n",
    "# import spark\n",
    "spark = SparkSession.builder \\\n",
    "    .appName('pyspark-run-with-gcp-bucket') \\\n",
    "    .config(\"spark.jars\", \"https://storage.googleapis.com/hadoop-lib/gcs/gcs-connector-hadoop3-latest.jar\") \\\n",
    "    .config(\"spark.sql.repl.eagerEval.enabled\", True) \\\n",
    "    .getOrCreate()\n",
    "\n",
    "# Set GCS credentials\n",
    "spark._jsc.hadoopConfiguration().set(\"google.cloud.auth.service.account.json.keyfile\", \"/home/jovyan/work/my-project-04-421705-6cc3b65adceb.json\")\n",
    "\n",
    "# Define GCS bucket and file path\n",
    "bucket_name = \"example_123654\"\n",
    "file_name = \"store.csv\"\n",
    "file_path = f\"gs://{bucket_name}/{file_name}\""
   ]
  },
  {
   "cell_type": "code",
   "execution_count": 2,
   "metadata": {},
   "outputs": [],
   "source": [
    "# Read CSV file from GCS into DataFrame\n",
    "df = spark.read.csv(file_path, header=True, inferSchema=True)"
   ]
  },
  {
   "cell_type": "code",
   "execution_count": 3,
   "metadata": {},
   "outputs": [],
   "source": [
    "# Define new column after ETL \n",
    "split_column = \"Ship Mode\"\n",
    "split_by = \" \"\n",
    "new_columns = [\"class_name\", \"class\"]\n",
    "\n",
    "# ETL process: Split the Ship Mode column into ship_name and class_name\n",
    "split_columns = [\n",
    "    split(df[split_column], split_by, len(new_columns)).getItem(i).alias(new_columns[i])\n",
    "    for i in range(len(new_columns))\n",
    "]\n",
    "\n",
    "df = df.select(\"*\",*split_columns)"
   ]
  },
  {
   "cell_type": "code",
   "execution_count": 4,
   "metadata": {},
   "outputs": [
    {
     "name": "stdout",
     "output_type": "stream",
     "text": [
      "+-----+--------------+----------+----------+--------------+-----------+------------------+-----------+-------------+---------------+--------------+-----------+-------+---------------+---------------+------------+--------------------+--------+--------+--------+--------+----------+-----+\n",
      "|index|      order_id|Order Date| Ship Date|     Ship Mode|customer_id|     customer_name|    segment|      country|           city|         state|postal_code| region|     product_id|       category|sub_category|        product_name|   sales|quantity|discount|  profit|class_name|class|\n",
      "+-----+--------------+----------+----------+--------------+-----------+------------------+-----------+-------------+---------------+--------------+-----------+-------+---------------+---------------+------------+--------------------+--------+--------+--------+--------+----------+-----+\n",
      "|    1|CA-2016-152156| 11/8/2016|11/11/2016|  Second Class|   CG-12520|       Claire Gute|   Consumer|United States|      Henderson|      Kentucky|      42420|  South|FUR-BO-10001798|      Furniture|   Bookcases|Bush Somerset Col...|  261.96|       2|       0| 41.9136|    Second|Class|\n",
      "|    2|CA-2016-152156| 11/8/2016|11/11/2016|  Second Class|   CG-12520|       Claire Gute|   Consumer|United States|      Henderson|      Kentucky|      42420|  South|FUR-CH-10000454|      Furniture|      Chairs|Hon Deluxe Fabric...|  731.94|       3|       0| 219.582|    Second|Class|\n",
      "|    3|CA-2016-138688| 6/12/2016| 6/16/2016|  Second Class|   DV-13045|   Darrin Van Huff|  Corporate|United States|    Los Angeles|    California|      90036|   West|OFF-LA-10000240|Office Supplies|      Labels|Self-Adhesive Add...|   14.62|       2|       0|  6.8714|    Second|Class|\n",
      "|    4|US-2015-108966|10/11/2015|10/18/2015|Standard Class|   SO-20335|    Sean O'Donnell|   Consumer|United States|Fort Lauderdale|       Florida|      33311|  South|FUR-TA-10000577|      Furniture|      Tables|Bretford CR4500 S...|957.5775|       5|    0.45|-383.031|  Standard|Class|\n",
      "|    5|US-2015-108966|10/11/2015|10/18/2015|Standard Class|   SO-20335|    Sean O'Donnell|   Consumer|United States|Fort Lauderdale|       Florida|      33311|  South|OFF-ST-10000760|Office Supplies|     Storage|Eldon Fold 'N Rol...|  22.368|       2|     0.2|  2.5164|  Standard|Class|\n",
      "|    6|CA-2014-115812|  6/9/2014| 6/14/2014|Standard Class|   BH-11710|   Brosina Hoffman|   Consumer|United States|    Los Angeles|    California|      90032|   West|FUR-FU-10001487|      Furniture| Furnishings|Eldon Expressions...|   48.86|       7|       0| 14.1694|  Standard|Class|\n",
      "|    7|CA-2014-115812|  6/9/2014| 6/14/2014|Standard Class|   BH-11710|   Brosina Hoffman|   Consumer|United States|    Los Angeles|    California|      90032|   West|OFF-AR-10002833|Office Supplies|         Art|          Newell 322|    7.28|       4|       0|  1.9656|  Standard|Class|\n",
      "|    8|CA-2014-115812|  6/9/2014| 6/14/2014|Standard Class|   BH-11710|   Brosina Hoffman|   Consumer|United States|    Los Angeles|    California|      90032|   West|TEC-PH-10002275|     Technology|      Phones|Mitel 5320 IP Pho...| 907.152|       6|     0.2| 90.7152|  Standard|Class|\n",
      "|    9|CA-2014-115812|  6/9/2014| 6/14/2014|Standard Class|   BH-11710|   Brosina Hoffman|   Consumer|United States|    Los Angeles|    California|      90032|   West|OFF-BI-10003910|Office Supplies|     Binders|DXL Angle-View Bi...|  18.504|       3|     0.2|  5.7825|  Standard|Class|\n",
      "|   10|CA-2014-115812|  6/9/2014| 6/14/2014|Standard Class|   BH-11710|   Brosina Hoffman|   Consumer|United States|    Los Angeles|    California|      90032|   West|OFF-AP-10002892|Office Supplies|  Appliances|Belkin F5C206VTEL...|   114.9|       5|       0|   34.47|  Standard|Class|\n",
      "|   11|CA-2014-115812|  6/9/2014| 6/14/2014|Standard Class|   BH-11710|   Brosina Hoffman|   Consumer|United States|    Los Angeles|    California|      90032|   West|FUR-TA-10001539|      Furniture|      Tables|Chromcraft Rectan...|1706.184|       9|     0.2| 85.3092|  Standard|Class|\n",
      "|   12|CA-2014-115812|  6/9/2014| 6/14/2014|Standard Class|   BH-11710|   Brosina Hoffman|   Consumer|United States|    Los Angeles|    California|      90032|   West|TEC-PH-10002033|     Technology|      Phones|Konftel 250 Confe...| 911.424|       4|     0.2| 68.3568|  Standard|Class|\n",
      "|   13|CA-2017-114412| 4/15/2017| 4/20/2017|Standard Class|   AA-10480|      Andrew Allen|   Consumer|United States|        Concord|North Carolina|      28027|  South|OFF-PA-10002365|Office Supplies|       Paper|          Xerox 1967|  15.552|       3|     0.2|  5.4432|  Standard|Class|\n",
      "|   14|CA-2016-161389| 12/5/2016|12/10/2016|Standard Class|   IM-15070|      Irene Maddox|   Consumer|United States|        Seattle|    Washington|      98103|   West|OFF-BI-10003656|Office Supplies|     Binders|Fellowes PB200 Pl...| 407.976|       3|     0.2|132.5922|  Standard|Class|\n",
      "|   15|US-2015-118983|11/22/2015|11/26/2015|Standard Class|   HP-14815|     Harold Pawlan|Home Office|United States|     Fort Worth|         Texas|      76106|Central|OFF-AP-10002311|Office Supplies|  Appliances|Holmes Replacemen...|   68.81|       5|     0.8|-123.858|  Standard|Class|\n",
      "|   16|US-2015-118983|11/22/2015|11/26/2015|Standard Class|   HP-14815|     Harold Pawlan|Home Office|United States|     Fort Worth|         Texas|      76106|Central|OFF-BI-10000756|Office Supplies|     Binders|Storex DuraTech R...|   2.544|       3|     0.8|  -3.816|  Standard|Class|\n",
      "|   17|CA-2014-105893|11/11/2014|11/18/2014|Standard Class|   PK-19075|         Pete Kriz|   Consumer|United States|        Madison|     Wisconsin|      53711|Central|OFF-ST-10004186|Office Supplies|     Storage|\"Stur-D-Stor Shel...|  665.88|       6|       0| 13.3176|  Standard|Class|\n",
      "|   18|CA-2014-167164| 5/13/2014| 5/15/2014|  Second Class|   AG-10270|   Alejandro Grove|   Consumer|United States|    West Jordan|          Utah|      84084|   West|OFF-ST-10000107|Office Supplies|     Storage|Fellowes Super St...|    55.5|       2|       0|    9.99|    Second|Class|\n",
      "|   19|CA-2014-143336| 8/27/2014|  9/1/2014|  Second Class|   ZD-21925|Zuschuss Donatelli|   Consumer|United States|  San Francisco|    California|      94109|   West|OFF-AR-10003056|Office Supplies|         Art|          Newell 341|    8.56|       2|       0|  2.4824|    Second|Class|\n",
      "|   20|CA-2014-143336| 8/27/2014|  9/1/2014|  Second Class|   ZD-21925|Zuschuss Donatelli|   Consumer|United States|  San Francisco|    California|      94109|   West|TEC-PH-10001949|     Technology|      Phones|Cisco SPA 501G IP...|  213.48|       3|     0.2|  16.011|    Second|Class|\n",
      "+-----+--------------+----------+----------+--------------+-----------+------------------+-----------+-------------+---------------+--------------+-----------+-------+---------------+---------------+------------+--------------------+--------+--------+--------+--------+----------+-----+\n",
      "only showing top 20 rows\n",
      "\n"
     ]
    }
   ],
   "source": [
    "# rename columns\n",
    "df = df.withColumnRenamed(\"Row ID\",\"index\") \\\n",
    "    .withColumnRenamed(\"Order ID\",\"order_id\") \\\n",
    "    .withColumnRenamed(\"Customer ID\",\"customer_id\") \\\n",
    "    .withColumnRenamed(\"Customer Name\",\"customer_name\") \\\n",
    "    .withColumnRenamed(\"Segment\",\"segment\") \\\n",
    "    .withColumnRenamed(\"Country\",\"country\") \\\n",
    "    .withColumnRenamed(\"City\",\"city\") \\\n",
    "    .withColumnRenamed(\"State\",\"state\") \\\n",
    "    .withColumnRenamed(\"Postal Code\",\"postal_code\") \\\n",
    "    .withColumnRenamed(\"Region\",\"region\") \\\n",
    "    .withColumnRenamed(\"Product ID\",\"product_id\") \\\n",
    "    .withColumnRenamed(\"Product Name\",\"product_name\") \\\n",
    "    .withColumnRenamed(\"Category\",\"category\") \\\n",
    "    .withColumnRenamed(\"Sub-Category\",\"sub_category\") \\\n",
    "    .withColumnRenamed(\"Sales\",\"sales\") \\\n",
    "    .withColumnRenamed(\"Quantity\",\"quantity\") \\\n",
    "    .withColumnRenamed(\"Discount\",\"discount\") \\\n",
    "    .withColumnRenamed(\"Profit\",\"profit\") \n",
    "\n",
    "# Coalesce the DataFrame to a single partition\n",
    "df = df.coalesce(1)\n",
    "\n",
    "# show result\n",
    "df.show()"
   ]
  },
  {
   "cell_type": "code",
   "execution_count": 5,
   "metadata": {},
   "outputs": [
    {
     "name": "stdout",
     "output_type": "stream",
     "text": [
      "+-----+--------------+----------+----------+--------------+-----------+------------------+-----------+-------------+---------------+--------------+-----------+-------+---------------+---------------+------------+--------------------+--------+--------+--------+--------+----------+-----+---+---+----+----------+----------+\n",
      "|index|      order_id|Order Date| Ship Date|     Ship Mode|customer_id|     customer_name|    segment|      country|           city|         state|postal_code| region|     product_id|       category|sub_category|        product_name|   sales|quantity|discount|  profit|class_name|class|day|mon|  yr|order_date| ship_date|\n",
      "+-----+--------------+----------+----------+--------------+-----------+------------------+-----------+-------------+---------------+--------------+-----------+-------+---------------+---------------+------------+--------------------+--------+--------+--------+--------+----------+-----+---+---+----+----------+----------+\n",
      "|    1|CA-2016-152156| 11/8/2016|11/11/2016|  Second Class|   CG-12520|       Claire Gute|   Consumer|United States|      Henderson|      Kentucky|      42420|  South|FUR-BO-10001798|      Furniture|   Bookcases|Bush Somerset Col...|  261.96|       2|       0| 41.9136|    Second|Class| 11| 11|2016| 2016-8-11|2016-11-11|\n",
      "|    2|CA-2016-152156| 11/8/2016|11/11/2016|  Second Class|   CG-12520|       Claire Gute|   Consumer|United States|      Henderson|      Kentucky|      42420|  South|FUR-CH-10000454|      Furniture|      Chairs|Hon Deluxe Fabric...|  731.94|       3|       0| 219.582|    Second|Class| 11| 11|2016| 2016-8-11|2016-11-11|\n",
      "|    3|CA-2016-138688| 6/12/2016| 6/16/2016|  Second Class|   DV-13045|   Darrin Van Huff|  Corporate|United States|    Los Angeles|    California|      90036|   West|OFF-LA-10000240|Office Supplies|      Labels|Self-Adhesive Add...|   14.62|       2|       0|  6.8714|    Second|Class|  6| 16|2016| 2016-12-6| 2016-16-6|\n",
      "|    4|US-2015-108966|10/11/2015|10/18/2015|Standard Class|   SO-20335|    Sean O'Donnell|   Consumer|United States|Fort Lauderdale|       Florida|      33311|  South|FUR-TA-10000577|      Furniture|      Tables|Bretford CR4500 S...|957.5775|       5|    0.45|-383.031|  Standard|Class| 10| 18|2015|2015-11-10|2015-18-10|\n",
      "|    5|US-2015-108966|10/11/2015|10/18/2015|Standard Class|   SO-20335|    Sean O'Donnell|   Consumer|United States|Fort Lauderdale|       Florida|      33311|  South|OFF-ST-10000760|Office Supplies|     Storage|Eldon Fold 'N Rol...|  22.368|       2|     0.2|  2.5164|  Standard|Class| 10| 18|2015|2015-11-10|2015-18-10|\n",
      "|    6|CA-2014-115812|  6/9/2014| 6/14/2014|Standard Class|   BH-11710|   Brosina Hoffman|   Consumer|United States|    Los Angeles|    California|      90032|   West|FUR-FU-10001487|      Furniture| Furnishings|Eldon Expressions...|   48.86|       7|       0| 14.1694|  Standard|Class|  6| 14|2014|  2014-9-6| 2014-14-6|\n",
      "|    7|CA-2014-115812|  6/9/2014| 6/14/2014|Standard Class|   BH-11710|   Brosina Hoffman|   Consumer|United States|    Los Angeles|    California|      90032|   West|OFF-AR-10002833|Office Supplies|         Art|          Newell 322|    7.28|       4|       0|  1.9656|  Standard|Class|  6| 14|2014|  2014-9-6| 2014-14-6|\n",
      "|    8|CA-2014-115812|  6/9/2014| 6/14/2014|Standard Class|   BH-11710|   Brosina Hoffman|   Consumer|United States|    Los Angeles|    California|      90032|   West|TEC-PH-10002275|     Technology|      Phones|Mitel 5320 IP Pho...| 907.152|       6|     0.2| 90.7152|  Standard|Class|  6| 14|2014|  2014-9-6| 2014-14-6|\n",
      "|    9|CA-2014-115812|  6/9/2014| 6/14/2014|Standard Class|   BH-11710|   Brosina Hoffman|   Consumer|United States|    Los Angeles|    California|      90032|   West|OFF-BI-10003910|Office Supplies|     Binders|DXL Angle-View Bi...|  18.504|       3|     0.2|  5.7825|  Standard|Class|  6| 14|2014|  2014-9-6| 2014-14-6|\n",
      "|   10|CA-2014-115812|  6/9/2014| 6/14/2014|Standard Class|   BH-11710|   Brosina Hoffman|   Consumer|United States|    Los Angeles|    California|      90032|   West|OFF-AP-10002892|Office Supplies|  Appliances|Belkin F5C206VTEL...|   114.9|       5|       0|   34.47|  Standard|Class|  6| 14|2014|  2014-9-6| 2014-14-6|\n",
      "|   11|CA-2014-115812|  6/9/2014| 6/14/2014|Standard Class|   BH-11710|   Brosina Hoffman|   Consumer|United States|    Los Angeles|    California|      90032|   West|FUR-TA-10001539|      Furniture|      Tables|Chromcraft Rectan...|1706.184|       9|     0.2| 85.3092|  Standard|Class|  6| 14|2014|  2014-9-6| 2014-14-6|\n",
      "|   12|CA-2014-115812|  6/9/2014| 6/14/2014|Standard Class|   BH-11710|   Brosina Hoffman|   Consumer|United States|    Los Angeles|    California|      90032|   West|TEC-PH-10002033|     Technology|      Phones|Konftel 250 Confe...| 911.424|       4|     0.2| 68.3568|  Standard|Class|  6| 14|2014|  2014-9-6| 2014-14-6|\n",
      "|   13|CA-2017-114412| 4/15/2017| 4/20/2017|Standard Class|   AA-10480|      Andrew Allen|   Consumer|United States|        Concord|North Carolina|      28027|  South|OFF-PA-10002365|Office Supplies|       Paper|          Xerox 1967|  15.552|       3|     0.2|  5.4432|  Standard|Class|  4| 20|2017| 2017-15-4| 2017-20-4|\n",
      "|   14|CA-2016-161389| 12/5/2016|12/10/2016|Standard Class|   IM-15070|      Irene Maddox|   Consumer|United States|        Seattle|    Washington|      98103|   West|OFF-BI-10003656|Office Supplies|     Binders|Fellowes PB200 Pl...| 407.976|       3|     0.2|132.5922|  Standard|Class| 12| 10|2016| 2016-5-12|2016-10-12|\n",
      "|   15|US-2015-118983|11/22/2015|11/26/2015|Standard Class|   HP-14815|     Harold Pawlan|Home Office|United States|     Fort Worth|         Texas|      76106|Central|OFF-AP-10002311|Office Supplies|  Appliances|Holmes Replacemen...|   68.81|       5|     0.8|-123.858|  Standard|Class| 11| 26|2015|2015-22-11|2015-26-11|\n",
      "|   16|US-2015-118983|11/22/2015|11/26/2015|Standard Class|   HP-14815|     Harold Pawlan|Home Office|United States|     Fort Worth|         Texas|      76106|Central|OFF-BI-10000756|Office Supplies|     Binders|Storex DuraTech R...|   2.544|       3|     0.8|  -3.816|  Standard|Class| 11| 26|2015|2015-22-11|2015-26-11|\n",
      "|   17|CA-2014-105893|11/11/2014|11/18/2014|Standard Class|   PK-19075|         Pete Kriz|   Consumer|United States|        Madison|     Wisconsin|      53711|Central|OFF-ST-10004186|Office Supplies|     Storage|\"Stur-D-Stor Shel...|  665.88|       6|       0| 13.3176|  Standard|Class| 11| 18|2014|2014-11-11|2014-18-11|\n",
      "|   18|CA-2014-167164| 5/13/2014| 5/15/2014|  Second Class|   AG-10270|   Alejandro Grove|   Consumer|United States|    West Jordan|          Utah|      84084|   West|OFF-ST-10000107|Office Supplies|     Storage|Fellowes Super St...|    55.5|       2|       0|    9.99|    Second|Class|  5| 15|2014| 2014-13-5| 2014-15-5|\n",
      "|   19|CA-2014-143336| 8/27/2014|  9/1/2014|  Second Class|   ZD-21925|Zuschuss Donatelli|   Consumer|United States|  San Francisco|    California|      94109|   West|OFF-AR-10003056|Office Supplies|         Art|          Newell 341|    8.56|       2|       0|  2.4824|    Second|Class|  9|  1|2014| 2014-27-8|  2014-1-9|\n",
      "|   20|CA-2014-143336| 8/27/2014|  9/1/2014|  Second Class|   ZD-21925|Zuschuss Donatelli|   Consumer|United States|  San Francisco|    California|      94109|   West|TEC-PH-10001949|     Technology|      Phones|Cisco SPA 501G IP...|  213.48|       3|     0.2|  16.011|    Second|Class|  9|  1|2014| 2014-27-8|  2014-1-9|\n",
      "+-----+--------------+----------+----------+--------------+-----------+------------------+-----------+-------------+---------------+--------------+-----------+-------+---------------+---------------+------------+--------------------+--------+--------+--------+--------+----------+-----+---+---+----+----------+----------+\n",
      "only showing top 20 rows\n",
      "\n"
     ]
    }
   ],
   "source": [
    "# Transform date format from dd-mm-yyyy to be yyyy-mm-dd following ISO format\n",
    "# We will do 2 columns are order_date and ship_date\n",
    "\n",
    "# order_date column\n",
    "split_column2 = \"Order Date\"\n",
    "split_by2 = \"/\"\n",
    "\n",
    "split_col = split(df[split_column2], split_by2)\n",
    "df = df.withColumn('day', split_col.getItem(0))\n",
    "df = df.withColumn('mon', split_col.getItem(1))\n",
    "df = df.withColumn('yr', split_col.getItem(2))\n",
    "\n",
    "# Create a new column with the \"yyyy-MM-dd\" format\n",
    "df = df.withColumn(\"order_date\", concat(col(\"yr\"), lit(\"-\"), col(\"mon\"), lit(\"-\"), col(\"day\")))\n",
    "\n",
    "# order_date column\n",
    "split_column2 = \"Ship Date\"\n",
    "split_by2 = \"/\"\n",
    "\n",
    "split_col = split(df[split_column2], split_by2)\n",
    "df = df.withColumn('day', split_col.getItem(0))\n",
    "df = df.withColumn('mon', split_col.getItem(1))\n",
    "df = df.withColumn('yr', split_col.getItem(2))\n",
    "\n",
    "# Create a new column with the \"yyyy-MM-dd\" format\n",
    "df = df.withColumn(\"ship_date\", concat(col(\"yr\"), lit(\"-\"), col(\"mon\"), lit(\"-\"), col(\"day\")))\n",
    "\n",
    "df.show()"
   ]
  },
  {
   "cell_type": "code",
   "execution_count": 6,
   "metadata": {},
   "outputs": [
    {
     "name": "stdout",
     "output_type": "stream",
     "text": [
      "+-----+--------------+----------+----------+----------+-----------+---------------+--------+--------+--------+--------+\n",
      "|index|      order_id|order_date| ship_date|class_name|customer_id|     product_id|   sales|quantity|discount|  profit|\n",
      "+-----+--------------+----------+----------+----------+-----------+---------------+--------+--------+--------+--------+\n",
      "|    1|CA-2016-152156| 2016-8-11|2016-11-11|    Second|   CG-12520|FUR-BO-10001798|  261.96|       2|       0| 41.9136|\n",
      "|    2|CA-2016-152156| 2016-8-11|2016-11-11|    Second|   CG-12520|FUR-CH-10000454|  731.94|       3|       0| 219.582|\n",
      "|    3|CA-2016-138688| 2016-12-6| 2016-16-6|    Second|   DV-13045|OFF-LA-10000240|   14.62|       2|       0|  6.8714|\n",
      "|    4|US-2015-108966|2015-11-10|2015-18-10|  Standard|   SO-20335|FUR-TA-10000577|957.5775|       5|    0.45|-383.031|\n",
      "|    5|US-2015-108966|2015-11-10|2015-18-10|  Standard|   SO-20335|OFF-ST-10000760|  22.368|       2|     0.2|  2.5164|\n",
      "|    6|CA-2014-115812|  2014-9-6| 2014-14-6|  Standard|   BH-11710|FUR-FU-10001487|   48.86|       7|       0| 14.1694|\n",
      "|    7|CA-2014-115812|  2014-9-6| 2014-14-6|  Standard|   BH-11710|OFF-AR-10002833|    7.28|       4|       0|  1.9656|\n",
      "|    8|CA-2014-115812|  2014-9-6| 2014-14-6|  Standard|   BH-11710|TEC-PH-10002275| 907.152|       6|     0.2| 90.7152|\n",
      "|    9|CA-2014-115812|  2014-9-6| 2014-14-6|  Standard|   BH-11710|OFF-BI-10003910|  18.504|       3|     0.2|  5.7825|\n",
      "|   10|CA-2014-115812|  2014-9-6| 2014-14-6|  Standard|   BH-11710|OFF-AP-10002892|   114.9|       5|       0|   34.47|\n",
      "|   11|CA-2014-115812|  2014-9-6| 2014-14-6|  Standard|   BH-11710|FUR-TA-10001539|1706.184|       9|     0.2| 85.3092|\n",
      "|   12|CA-2014-115812|  2014-9-6| 2014-14-6|  Standard|   BH-11710|TEC-PH-10002033| 911.424|       4|     0.2| 68.3568|\n",
      "|   13|CA-2017-114412| 2017-15-4| 2017-20-4|  Standard|   AA-10480|OFF-PA-10002365|  15.552|       3|     0.2|  5.4432|\n",
      "|   14|CA-2016-161389| 2016-5-12|2016-10-12|  Standard|   IM-15070|OFF-BI-10003656| 407.976|       3|     0.2|132.5922|\n",
      "|   15|US-2015-118983|2015-22-11|2015-26-11|  Standard|   HP-14815|OFF-AP-10002311|   68.81|       5|     0.8|-123.858|\n",
      "|   16|US-2015-118983|2015-22-11|2015-26-11|  Standard|   HP-14815|OFF-BI-10000756|   2.544|       3|     0.8|  -3.816|\n",
      "|   17|CA-2014-105893|2014-11-11|2014-18-11|  Standard|   PK-19075|OFF-ST-10004186|  665.88|       6|       0| 13.3176|\n",
      "|   18|CA-2014-167164| 2014-13-5| 2014-15-5|    Second|   AG-10270|OFF-ST-10000107|    55.5|       2|       0|    9.99|\n",
      "|   19|CA-2014-143336| 2014-27-8|  2014-1-9|    Second|   ZD-21925|OFF-AR-10003056|    8.56|       2|       0|  2.4824|\n",
      "|   20|CA-2014-143336| 2014-27-8|  2014-1-9|    Second|   ZD-21925|TEC-PH-10001949|  213.48|       3|     0.2|  16.011|\n",
      "+-----+--------------+----------+----------+----------+-----------+---------------+--------+--------+--------+--------+\n",
      "only showing top 20 rows\n",
      "\n"
     ]
    }
   ],
   "source": [
    "# Select data from df\n",
    "order_trans = df.select(\"*\")\n",
    "\n",
    "# Coalesce the DataFrame to a single partition\n",
    "order_trans = order_trans.coalesce(1)\n",
    "\n",
    "# Filter columns\n",
    "order_trans = order_trans.select(\"index\", \"order_id\", \"order_date\", \"ship_date\", \"class_name\", \"customer_id\", \"product_id\", \\\n",
    "                \"sales\", \"quantity\", \"discount\", \"profit\")\n",
    "\n",
    "# Coalesce the DataFrame to a single partition\n",
    "order_trans = order_trans.coalesce(1)\n",
    "\n",
    "# Show the result\n",
    "order_trans.show()"
   ]
  },
  {
   "cell_type": "code",
   "execution_count": 7,
   "metadata": {},
   "outputs": [
    {
     "name": "stdout",
     "output_type": "stream",
     "text": [
      "+-----------+------------------+-----------+-------------+---------------+--------------+-----------+-------+\n",
      "|customer_id|     customer_name|    segment|      country|           city|         state|postal_code| region|\n",
      "+-----------+------------------+-----------+-------------+---------------+--------------+-----------+-------+\n",
      "|   CG-12520|       Claire Gute|   Consumer|United States|      Henderson|      Kentucky|      42420|  South|\n",
      "|   DV-13045|   Darrin Van Huff|  Corporate|United States|    Los Angeles|    California|      90036|   West|\n",
      "|   SO-20335|    Sean O'Donnell|   Consumer|United States|Fort Lauderdale|       Florida|      33311|  South|\n",
      "|   BH-11710|   Brosina Hoffman|   Consumer|United States|    Los Angeles|    California|      90032|   West|\n",
      "|   AA-10480|      Andrew Allen|   Consumer|United States|        Concord|North Carolina|      28027|  South|\n",
      "|   IM-15070|      Irene Maddox|   Consumer|United States|        Seattle|    Washington|      98103|   West|\n",
      "|   HP-14815|     Harold Pawlan|Home Office|United States|     Fort Worth|         Texas|      76106|Central|\n",
      "|   PK-19075|         Pete Kriz|   Consumer|United States|        Madison|     Wisconsin|      53711|Central|\n",
      "|   AG-10270|   Alejandro Grove|   Consumer|United States|    West Jordan|          Utah|      84084|   West|\n",
      "|   ZD-21925|Zuschuss Donatelli|   Consumer|United States|  San Francisco|    California|      94109|   West|\n",
      "|   KB-16585|         Ken Black|  Corporate|United States|        Fremont|      Nebraska|      68025|Central|\n",
      "|   SF-20065|   Sandra Flanagan|   Consumer|United States|   Philadelphia|  Pennsylvania|      19140|   East|\n",
      "|   EB-13870|       Emily Burns|   Consumer|United States|           Orem|          Utah|      84057|   West|\n",
      "|   EH-13945|     Eric Hoffmann|   Consumer|United States|    Los Angeles|    California|      90049|   West|\n",
      "|   TB-21520|   Tracy Blumstein|   Consumer|United States|   Philadelphia|  Pennsylvania|      19140|   East|\n",
      "|   MA-17560|      Matt Abelman|Home Office|United States|        Houston|         Texas|      77095|Central|\n",
      "|   GH-14485|         Gene Hale|  Corporate|United States|     Richardson|         Texas|      75080|Central|\n",
      "|   SN-20710|      Steve Nguyen|Home Office|United States|        Houston|         Texas|      77041|Central|\n",
      "|   LC-16930|    Linda Cazamias|  Corporate|United States|     Naperville|      Illinois|      60540|Central|\n",
      "|   RA-19885|      Ruben Ausman|  Corporate|United States|    Los Angeles|    California|      90049|   West|\n",
      "+-----------+------------------+-----------+-------------+---------------+--------------+-----------+-------+\n",
      "only showing top 20 rows\n",
      "\n"
     ]
    }
   ],
   "source": [
    "# Select data from df\n",
    "cust_data = df.select(\"*\")\n",
    "\n",
    "# Coalesce the DataFrame to a single partition\n",
    "cust_data = cust_data.coalesce(1)\n",
    "\n",
    "# Filter columns\n",
    "cust_data = cust_data.select(\"customer_id\", \"customer_name\", \"segment\", \\\n",
    "                \"country\", \"city\", \"state\", \"postal_code\", \"region\")\n",
    "\n",
    "# Select distinct row values\n",
    "cust_data = cust_data.distinct()\n",
    "\n",
    "# Coalesce the DataFrame to a single partition\n",
    "cust_data = cust_data.coalesce(1)\n",
    "\n",
    "# Show the result\n",
    "cust_data.show()"
   ]
  },
  {
   "cell_type": "code",
   "execution_count": 8,
   "metadata": {},
   "outputs": [
    {
     "name": "stdout",
     "output_type": "stream",
     "text": [
      "+---------+\n",
      "|count_all|\n",
      "+---------+\n",
      "|     9994|\n",
      "+---------+\n",
      "\n",
      "+--------------+\n",
      "|count_distinct|\n",
      "+--------------+\n",
      "|          4910|\n",
      "+--------------+\n",
      "\n"
     ]
    }
   ],
   "source": [
    "df.createOrReplaceTempView(\"df\")\n",
    "cust_data.createOrReplaceTempView(\"c\")\n",
    "\n",
    "c1 = spark.sql(\"\"\"\n",
    "    select\n",
    "        count(customer_id) as count_all\n",
    "        \n",
    "    from\n",
    "        df\n",
    "\"\"\")\n",
    "\n",
    "c2 = spark.sql(\"\"\"\n",
    "    select distinct\n",
    "        count(customer_id)  as count_distinct\n",
    "        \n",
    "    from\n",
    "       c\n",
    "\"\"\")\n",
    "\n",
    "\n",
    "c1.show()\n",
    "c2.show()"
   ]
  },
  {
   "cell_type": "code",
   "execution_count": 9,
   "metadata": {},
   "outputs": [
    {
     "name": "stdout",
     "output_type": "stream",
     "text": [
      "+---------------+--------------------+---------------+------------+\n",
      "|     product_id|        product_name|       category|sub_category|\n",
      "+---------------+--------------------+---------------+------------+\n",
      "|FUR-BO-10001798|Bush Somerset Col...|      Furniture|   Bookcases|\n",
      "|FUR-CH-10000454|Hon Deluxe Fabric...|      Furniture|      Chairs|\n",
      "|OFF-LA-10000240|Self-Adhesive Add...|Office Supplies|      Labels|\n",
      "|FUR-TA-10000577|Bretford CR4500 S...|      Furniture|      Tables|\n",
      "|OFF-ST-10000760|Eldon Fold 'N Rol...|Office Supplies|     Storage|\n",
      "|FUR-FU-10001487|Eldon Expressions...|      Furniture| Furnishings|\n",
      "|OFF-AR-10002833|          Newell 322|Office Supplies|         Art|\n",
      "|TEC-PH-10002275|Mitel 5320 IP Pho...|     Technology|      Phones|\n",
      "|OFF-BI-10003910|DXL Angle-View Bi...|Office Supplies|     Binders|\n",
      "|OFF-AP-10002892|Belkin F5C206VTEL...|Office Supplies|  Appliances|\n",
      "|FUR-TA-10001539|Chromcraft Rectan...|      Furniture|      Tables|\n",
      "|TEC-PH-10002033|Konftel 250 Confe...|     Technology|      Phones|\n",
      "|OFF-PA-10002365|          Xerox 1967|Office Supplies|       Paper|\n",
      "|OFF-BI-10003656|Fellowes PB200 Pl...|Office Supplies|     Binders|\n",
      "|OFF-AP-10002311|Holmes Replacemen...|Office Supplies|  Appliances|\n",
      "|OFF-BI-10000756|Storex DuraTech R...|Office Supplies|     Binders|\n",
      "|OFF-ST-10004186|\"Stur-D-Stor Shel...|Office Supplies|     Storage|\n",
      "|OFF-ST-10000107|Fellowes Super St...|Office Supplies|     Storage|\n",
      "|OFF-AR-10003056|          Newell 341|Office Supplies|         Art|\n",
      "|TEC-PH-10001949|Cisco SPA 501G IP...|     Technology|      Phones|\n",
      "+---------------+--------------------+---------------+------------+\n",
      "only showing top 20 rows\n",
      "\n"
     ]
    }
   ],
   "source": [
    "# Select data from df\n",
    "product_data = df.select(\"*\")\n",
    "\n",
    "# Coalesce the DataFrame to a single partition\n",
    "product_data = product_data.coalesce(1)\n",
    "\n",
    "# Filter columns\n",
    "product_data = product_data.select(\"product_id\", \"product_name\", \"category\", \"sub_category\")\n",
    "\n",
    "# Select distinct row values\n",
    "product_data = product_data.distinct()\n",
    "\n",
    "# Coalesce the DataFrame to a single partition\n",
    "product_data = product_data.coalesce(1)\n",
    "\n",
    "# Show the result\n",
    "product_data.show()"
   ]
  },
  {
   "cell_type": "code",
   "execution_count": 10,
   "metadata": {},
   "outputs": [
    {
     "name": "stdout",
     "output_type": "stream",
     "text": [
      "+---------+\n",
      "|count_all|\n",
      "+---------+\n",
      "|     9994|\n",
      "+---------+\n",
      "\n",
      "+--------------+\n",
      "|count_distinct|\n",
      "+--------------+\n",
      "|          1894|\n",
      "+--------------+\n",
      "\n"
     ]
    }
   ],
   "source": [
    "df.createOrReplaceTempView(\"df\")\n",
    "product_data.createOrReplaceTempView(\"p\")\n",
    "\n",
    "p1 = spark.sql(\"\"\"\n",
    "    select distinct\n",
    "        count(product_id) as count_all\n",
    "        \n",
    "    from\n",
    "        df\n",
    "\"\"\")\n",
    "\n",
    "p2 = spark.sql(\"\"\"\n",
    "    select distinct\n",
    "        count(product_id)  as count_distinct\n",
    "        \n",
    "    from\n",
    "       p\n",
    "\"\"\")\n",
    "\n",
    "\n",
    "p1.show()\n",
    "p2.show()"
   ]
  },
  {
   "cell_type": "code",
   "execution_count": 13,
   "metadata": {},
   "outputs": [],
   "source": [
    "# Write the DataFrame to a single CSV file in GCS\n",
    "order_trans.write.csv(f\"gs://{bucket_name}/cleaned_zone/transaction_data\", header=True)\n",
    "cust_data.write.csv(f\"gs://{bucket_name}/cleaned_zone/customer_data\", header=True)\n",
    "product_data.write.csv(f\"gs://{bucket_name}/cleaned_zone/product_data\", header=True)"
   ]
  },
  {
   "cell_type": "code",
   "execution_count": 12,
   "metadata": {},
   "outputs": [],
   "source": [
    "# Stop SparkSession\n",
    "spark.stop()"
   ]
  },
  {
   "cell_type": "code",
   "execution_count": null,
   "metadata": {},
   "outputs": [],
   "source": []
  }
 ],
 "metadata": {
  "kernelspec": {
   "display_name": "Python 3 (ipykernel)",
   "language": "python",
   "name": "python3"
  },
  "language_info": {
   "codemirror_mode": {
    "name": "ipython",
    "version": 3
   },
   "file_extension": ".py",
   "mimetype": "text/x-python",
   "name": "python",
   "nbconvert_exporter": "python",
   "pygments_lexer": "ipython3",
   "version": "3.11.6"
  }
 },
 "nbformat": 4,
 "nbformat_minor": 4
}
